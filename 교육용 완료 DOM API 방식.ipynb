{
 "cells": [
  {
   "cell_type": "markdown",
   "id": "e61ff423-6349-41d5-85e1-3c4a642a2405",
   "metadata": {},
   "source": [
    "# Import\n",
    "- 외우지 않아도 됨."
   ]
  },
  {
   "cell_type": "code",
   "execution_count": 1,
   "id": "5e618165-d7fc-4812-ab33-81110e93ab2f",
   "metadata": {},
   "outputs": [],
   "source": [
    "# 셀레니움 : 자동화된 웹 브라우저 테스트\n",
    "from selenium import webdriver\n",
    "from selenium.webdriver.common.keys import Keys\n",
    "from selenium.webdriver.common.by import By\n",
    "from selenium.webdriver.chrome.service import Service\n",
    "from selenium.webdriver.support import expected_conditions as EC\n",
    "from selenium.webdriver.support.wait import WebDriverWait\n",
    "\n",
    "# 3.11까지 호환 개발, But 3.12에서도 문제가 없음\n",
    "from webdriver_manager.chrome import ChromeDriverManager\n",
    "\n",
    "\n",
    "# 시간 라이브러리 \n",
    "import arrow\n",
    "import time\n",
    "import datetime\n",
    "\n",
    "\n",
    "# 파이썬 기본 라이브러리\n",
    "import os\n",
    "import re\n",
    "\n",
    "# Request 요청과 관련된 라이브러리\n",
    "import requests\n",
    "\n",
    "# HTML DOM 데이터를 -> TEXT 데이터 형식으로 바꾸어 볼 수 있는 라이브러리 \n",
    "from bs4 import BeautifulSoup\n",
    "\n",
    "\n",
    "\n",
    "\n"
   ]
  },
  {
   "cell_type": "markdown",
   "id": "57c9232c-ce78-4a4e-b51d-d9c7264d8623",
   "metadata": {},
   "source": [
    "# Driver 생성\n",
    "- chrome driver(크롬 브라우저의 핵심을 모방한 프로그램, chrome 이 아니더라도 edge, firefox 등 다른 브라우저도 모방 가능)"
   ]
  },
  {
   "cell_type": "code",
   "execution_count": 3,
   "id": "9f5c2d59-5cad-4593-a646-48bf542849b4",
   "metadata": {},
   "outputs": [],
   "source": [
    "\n",
    "chrome_options = webdriver.ChromeOptions()\n",
    "\n",
    "chrome_options.add_argument(\"window-size=1920,1024\")\n",
    "# 서버에서 user_agent로 봇인지 사람인지 판단하는 경우가 있기 때문에, 자주 사용되는 user_agent들 중 하나를 사용\n",
    "# https://techblog.willshouse.com/2012/01/03/most-common-user-agents/\n",
    "chrome_options.add_argument(\"user-agent=Mozilla/5.0 (X11; Linux x86_64; rv:138.0) Gecko/20100101 Firefox/138.0\") \n",
    "chrome_prefs = {\n",
    "    \"credentials_enable_service\": False,\n",
    "    \"profile.password_manager_enabled\": False,\n",
    "    \"profile.password_manager_leak_detection\": False,  # 로그인 유출 경고창 비활성화\n",
    "}\n",
    "chrome_options.add_experimental_option(\"prefs\", chrome_prefs)\n",
    "\n",
    "\n",
    "service = Service(ChromeDriverManager().install())\n",
    "driver = webdriver.Chrome(service=service, options=chrome_options)"
   ]
  },
  {
   "cell_type": "markdown",
   "id": "3328eb2f-b3c6-4665-b823-009899958d78",
   "metadata": {},
   "source": [
    "# 로그인"
   ]
  },
  {
   "cell_type": "code",
   "execution_count": 2,
   "id": "482af621-6c02-4ef4-84ea-d94df38991f4",
   "metadata": {},
   "outputs": [
    {
     "ename": "NameError",
     "evalue": "name 'driver' is not defined",
     "output_type": "error",
     "traceback": [
      "\u001b[31m---------------------------------------------------------------------------\u001b[39m",
      "\u001b[31mNameError\u001b[39m                                 Traceback (most recent call last)",
      "\u001b[36mCell\u001b[39m\u001b[36m \u001b[39m\u001b[32mIn[2]\u001b[39m\u001b[32m, line 5\u001b[39m\n\u001b[32m      3\u001b[39m login_pw = os.environ.get(\u001b[33m\"\u001b[39m\u001b[33mLOGIN_PW\u001b[39m\u001b[33m\"\u001b[39m)\n\u001b[32m      4\u001b[39m login_url = \u001b[33m\"\u001b[39m\u001b[33mhttps://www.incheoncc.com:1436/login/login.asp?returnurl=/pagesite/reservation/live.asp?\u001b[39m\u001b[33m\"\u001b[39m\n\u001b[32m----> \u001b[39m\u001b[32m5\u001b[39m \u001b[43mdriver\u001b[49m.get(login_url)\n",
      "\u001b[31mNameError\u001b[39m: name 'driver' is not defined"
     ]
    }
   ],
   "source": [
    "\n",
    "# 민감한 정보는 환경변수에 등록, 등록한 환경변수를 불러오는 코드\n",
    "login_id = os.environ.get(\"LOGIN_ID\")\n",
    "login_pw = os.environ.get(\"LOGIN_PW\")\n",
    "login_url = \"https://www.incheoncc.com:1436/login/login.asp?returnurl=/pagesite/reservation/live.asp?\"\n",
    "driver.get(login_url)\n",
    "\n",
    "# 개발자도구 - element - id 찾기, \n",
    "# shift+tab으로 함수/메소드 정의 시그니처 확인\n",
    "id_element = driver.find_element(value=\"login_id\")\n",
    "pw_element = driver.find_element(value=\"login_pw\")\n",
    "id_element.send_keys(login_id)\n",
    "pw_element.send_keys(login_pw)\n",
    "login_button = driver.find_element(value=\"bt_login\",by=By.CLASS_NAME)\n",
    "login_button.click()\n",
    "if EC.alert_is_present():\n",
    "    result = driver.switch_to.alert\n",
    "    result.accept()"
   ]
  },
  {
   "cell_type": "markdown",
   "id": "0b988d92-3d8b-4040-a214-e2bb5c4a4135",
   "metadata": {},
   "source": [
    "# 모니터링\n",
    "- cursor AI를 프롬프트 이용하여 프로그래밍\n",
    "- 서버에서 코스를 9시에 오픈하기 때문에 정확히 9시에 예약 가능을 확인하는 모니터링이 실행되어야 해. \n",
    "- but 안전하게 9시보다 조금 일찍 실행되어야 하고, 또 너무 일찍 실행되어서 서버에게 지속된 요청으로 매크로가 아니여야함.\n",
    "- 적당히 8시 59분 50초로 기준 설정, 즉 8시 59분 50초 이전에는 1분 단위로 서버에게 요청해야해\n",
    "- 유저는 8시 50분 - 9시 사이에 실행한다고 가정하고, 10분 이상 예약가능 모니터링을 서버에게 요청하지마.\n",
    "- monitor.py 파일에 클래스와 메소드를 만들어 줘.\n",
    "\n",
    "구체적인 예시\n",
    "모니터링 첫 시도: 8시 56분 10초 \\\n",
    "모니터링 두번째 시도: 8시 57분 10초\\\n",
    "모니터링 3번째 시도: 8시 58분 10초\\\n",
    "모니터링 4번째 시도: 8시 59분 10초\\\n",
    "모니터링 5번째 시도: 8시 59분 50초\\\n",
    "모니터링 6번째 시도: 8시 59분 51초\\\n",
    "모니터링 7번째 시도: 8시 59분 52초\\\n",
    "...\n",
    "\n",
    "\n"
   ]
  },
  {
   "cell_type": "code",
   "execution_count": 87,
   "id": "e07d7c18-7445-4636-a7db-c069d4231321",
   "metadata": {},
   "outputs": [],
   "source": [
    "from typing import Optional\n",
    "class GolfReservationMonitor:\n",
    "    def __init__(self, selenium_cookies):\n",
    "        self.hour = 8\n",
    "        self.minute = 59\n",
    "        self.second = 50\n",
    "        self.base_url = \"https://www.incheoncc.com:1436\"\n",
    "        self.session = requests.Session()\n",
    "        # 기본 헤더 설정 (실제 브라우저처럼 보이게)\n",
    "        self.session.headers.update(\n",
    "            {\n",
    "                \"User-Agent\": get_random_user_agent(),\n",
    "                \"Accept\": \"text/html,application/xhtml+xml,application/xml;q=0.9,image/webp,*/*;q=0.8\",\n",
    "                \"Accept-Language\": \"ko-KR,ko;q=0.8,en-US;q=0.5,en;q=0.3\",\n",
    "                \"Accept-Encoding\": \"gzip, deflate, br\",\n",
    "                \"Connection\": \"keep-alive\",\n",
    "                \"Upgrade-Insecure-Requests\": \"1\",\n",
    "            }\n",
    "        )\n",
    "\n",
    "        for cookie in selenium_cookies:\n",
    "            self.session.cookies.set(cookie[\"name\"], cookie[\"value\"])\n",
    "\n",
    "    def check_time_window(self) -> tuple[bool, int]:\n",
    "        \"\"\"\n",
    "        현재 시간에 따른 모니터링 가능 여부와 대기 시간 반환\n",
    "\n",
    "        Returns:\n",
    "            tuple[bool, int]: (모니터링 가능 여부, 다음 체크까지 대기 시간(초))\n",
    "\n",
    "        시간대별 모니터링 주기:\n",
    "        - ~ 8시 59분 50초 : 1분에 1번 (60초 간격)\n",
    "        - 8시 59분 50초 ~ : 1초에 1번 (1초 간격)\n",
    "        \"\"\"\n",
    "        # 지금 시간\n",
    "        now = datetime.datetime.now()\n",
    "\n",
    "        # 바뀔 시간 기준의 정의\n",
    "        criterion = now.replace(\n",
    "            hour=self.hour, minute=self.minute, second=self.second, microsecond=0\n",
    "        )\n",
    "\n",
    "        if now < criterion:\n",
    "            # ~ 기준 시간 : 1분 간격\n",
    "            return True, 60\n",
    "        elif criterion <= now:\n",
    "            # 기준 시간 ~ : 1초 간격\n",
    "            return True, 1\n",
    "        else:\n",
    "            return False, 0\n",
    "\n",
    "    def get_calendar_data(self, yyyymmdd: str) -> Optional[bool]:\n",
    "        \"\"\"\n",
    "        특정 날짜의 예약 상태를 확인\n",
    "        yyyymmdd: YYYYMMDD 형식\n",
    "        Returns: True if live, False if not live, None if error\n",
    "        \"\"\"\n",
    "        try:\n",
    "            # 달력 데이터를 가져오기 위한 AJAX 요청\n",
    "            calendar_url = (\n",
    "                f\"{self.base_url}/GolfRes/onepage/real_calendar_ajax_view.asp\"\n",
    "            )\n",
    "\n",
    "            # 타겟 날짜에서 년월 추출\n",
    "            yyyymm = yyyymmdd[:6]  # YYYYMM\n",
    "            now_yyyymm = datetime.datetime.now().strftime(\"%Y%m\")\n",
    "            calnum = \"1\" if yyyymm == now_yyyymm else \"2\"\n",
    "            # POST 데이터 준비\n",
    "            post_data = {\n",
    "                \"golfrestype\": \"real\",\n",
    "                \"schDate\": yyyymm,\n",
    "                \"usrmemcd\": \"12\",  # 유저 멤버 번호\n",
    "                \"toDay\": yyyymmdd,\n",
    "                \"calnum\": calnum,\n",
    "            }\n",
    "\n",
    "            response = self.session.post(calendar_url, data=post_data)\n",
    "            response.raise_for_status()\n",
    "\n",
    "            # HTML 파싱\n",
    "            soup = BeautifulSoup(response.text, \"html.parser\")\n",
    "\n",
    "            # 해당 날짜의 링크 찾기\n",
    "            target_day = int(yyyymmdd[-2:])  # 일자만 추출 01 -> 1\n",
    "\n",
    "            # 모든 날짜 링크 찾기\n",
    "            date_links = soup.find_all(\"a\", href=True)\n",
    "            for link in date_links:\n",
    "                # 링크 텍스트가 해당 일자와 일치하는지 확인\n",
    "                if link.get_text().strip() == str(target_day):\n",
    "                    if \"예약가능\" == link.get(\"title\", \"\"):  # type: ignore\n",
    "                        return True\n",
    "            return False\n",
    "\n",
    "        except Exception as e:\n",
    "            logger.info(f\"오류 발생: {e}\")\n",
    "            return None\n",
    "\n",
    "    def monitor_is_alive_date(self, yyyymmdd: str, timeout_minutes: int = 10) -> bool:\n",
    "        \"\"\"\n",
    "        원하는 날짜가 live 상태가 될 때까지 시간대별 모니터링\n",
    "\n",
    "        Args:\n",
    "            yyyymmdd (str): 모니터링할 날짜 (YYYYMMDD 형식)\n",
    "            timeout_minutes (int): 최대 모니터링 시간 (분 단위, 기본값: 10분)\n",
    "\n",
    "        Returns:\n",
    "            bool: True if 날짜가 live 상태가 됨, False if 시간 초과 또는 모니터링 불가\n",
    "\n",
    "        모니터링 주기:\n",
    "        - ~ 8시 59분 50초: 1분 간격\n",
    "        - 8시 59분 50초 ~ : 1초 간격\n",
    "        \"\"\"\n",
    "\n",
    "        start_time = datetime.datetime.now()\n",
    "        timeout_seconds = timeout_minutes * 60\n",
    "\n",
    "        logger.info(f\"🏌️ 골프 예약 모니터링 시작\")\n",
    "        logger.info(f\"📅 대상 날짜: {yyyymmdd}\")\n",
    "        logger.info(f\"⏰ 모니터링 시간:\")\n",
    "        logger.info(f\"   • 00:00 ~ 08:59:50 → 1분 간격\")\n",
    "        logger.info(f\"   • 08:59:50 ~ 24:00 → 1초 간격\")\n",
    "        logger.info(f\"   • 최대 모니터링 시간: {timeout_minutes}분\")\n",
    "        logger.info(f\"   • Ctrl+C로 언제든 중단 가능\")\n",
    "        logger.info(\"-\" * 50)\n",
    "\n",
    "        check_count = 0\n",
    "        last_check_time = None\n",
    "\n",
    "        try:\n",
    "            while True:\n",
    "                # 타임아웃 체크\n",
    "                current_time = datetime.datetime.now()\n",
    "                elapsed_seconds = (current_time - start_time).total_seconds()\n",
    "                if elapsed_seconds >= timeout_seconds:\n",
    "                    logger.info(\n",
    "                        f\"⏰ {timeout_minutes}분 타임아웃으로 모니터링을 종료합니다\"\n",
    "                    )\n",
    "                    return False\n",
    "\n",
    "                # 현재 시간 확인 및 모니터링 가능 여부 체크\n",
    "                can_monitor, wait_seconds = self.check_time_window()\n",
    "\n",
    "                # 중복 체크 방지 (같은 시간대에 여러 번 체크하지 않음) 8시에 확인 필요\n",
    "                if wait_seconds == 60:\n",
    "                    # 다음 체크 예정 시간이 8:59:50을 넘기면, 8:59:50에 맞춰서 sleep\n",
    "                    now = datetime.datetime.now()\n",
    "                    next_check = now + datetime.timedelta(seconds=wait_seconds)\n",
    "                    switch_time = now.replace(\n",
    "                        hour=self.hour,\n",
    "                        minute=self.minute,\n",
    "                        second=self.second,\n",
    "                        microsecond=0,\n",
    "                    )\n",
    "                    # 다음 체크 > 기준 시간 > 지금\n",
    "                    if next_check > switch_time > now:\n",
    "                        # 8:59:50까지 남은 초만큼 sleep\n",
    "                        sleep_seconds = (switch_time - now).total_seconds()\n",
    "                        time.sleep(sleep_seconds)\n",
    "                    # 1분 & 기준 시간 > 다음 체크 > 지금\n",
    "                    else:\n",
    "                        time.sleep(wait_seconds)\n",
    "                # 1초 일때\n",
    "                else:\n",
    "                    time.sleep(wait_seconds)\n",
    "\n",
    "                # 모니터링 실행\n",
    "                check_count += 1\n",
    "                time_str = current_time.strftime(\"%H:%M:%S\")\n",
    "                interval_str = \"1분 간격\" if wait_seconds == 60 else \"1초 간격\"\n",
    "\n",
    "                logger.info(f\"🔍 검사 #{check_count} - {time_str} ({interval_str})\")\n",
    "\n",
    "                # 예약 상태 확인\n",
    "                is_live = self.check_calendar_data(yyyymmdd)\n",
    "\n",
    "                if is_live is None:\n",
    "                    logger.info(\"❌ 데이터 조회 실패\")\n",
    "                elif is_live:\n",
    "                    logger.info(f\"✅ 성공! {yyyymmdd} 날짜가 예약 가능 상태입니다!\")\n",
    "                    return True\n",
    "                else:\n",
    "                    logger.info(f\"⏳ {yyyymmdd} 아직 예약 불가능...\")\n",
    "\n",
    "        except KeyboardInterrupt:\n",
    "            logger.info(\"🛑 사용자가 모니터링을 중단했습니다 (Ctrl+C)\")\n",
    "            return False\n",
    "\n",
    "    def check_calendar_data(self, yyyymmdd: str) -> Optional[bool]:\n",
    "        \"\"\"실제 달력 데이터 확인 (간소화된 버전)\"\"\"\n",
    "        try:\n",
    "            return self.get_calendar_data(yyyymmdd)\n",
    "\n",
    "        except Exception as e:\n",
    "            logger.info(f\"확인 중 오류: {e}\")\n",
    "            return None\n"
   ]
  },
  {
   "cell_type": "code",
   "execution_count": 3,
   "id": "d7d2bedf-1d46-4273-b429-38837978a4fe",
   "metadata": {},
   "outputs": [],
   "source": [
    "# 모니터링 테스트/디버깅 코드 \n",
    "def main():\n",
    "    \"\"\"메인 실행 함수\"\"\"\n",
    "    \n",
    "    selenium_cookies = driver.get_cookies()\n",
    "    monitor = GolfReservationMonitor(selenium_cookies)\n",
    "    \n",
    "    # 사용자로부터 날짜 입력받기\n",
    "    print(\"=\" * 60)\n",
    "    print(\"🏌️  인천국제CC 골프 예약 모니터링 시스템\")\n",
    "    print(\"=\" * 60)\n",
    "    \n",
    "    while True:\n",
    "        try:\n",
    "            date_input = input(\"\\n📅 모니터링할 날짜를 입력하세요 (YYYY-MM-DD 형식): \").strip()\n",
    "            \n",
    "            # 날짜 형식 검증\n",
    "            target_datetime = datetime.datetime.strptime(date_input, \"%Y-%m-%d\")\n",
    "            target_date = target_datetime.strftime(\"%Y%m%d\")\n",
    "            \n",
    "            # 과거 날짜 체크\n",
    "            if target_datetime.date() < datetime.date.today():\n",
    "                print(\"❌ 과거 날짜는 선택할 수 없습니다.\")\n",
    "                continue\n",
    "                \n",
    "            break\n",
    "            \n",
    "        except ValueError:\n",
    "            print(\"❌ 잘못된 날짜 형식입니다. YYYY-MM-DD 형식으로 입력해주세요.\")\n",
    "            continue\n",
    "    \n",
    "    print(f\"\\n🎯 선택된 날짜: {date_input} ({target_date})\")       \n",
    "\n",
    "    \n",
    "    # 모니터링 시작\n",
    "    print(\"\\n🚀 모니터링을 시작합니다...\")\n",
    "    \n",
    "    try:\n",
    "        result = monitor.monitor_is_alive_date(target_date)\n",
    "        \n",
    "        if result:\n",
    "            print(f\"\\n🎉 성공! {date_input} 날짜 예약이 가능해졌습니다!\")\n",
    "            print(\"💡 지금 바로 예약 사이트로 이동하세요!\")\n",
    "        else:\n",
    "            print(f\"\\n😞 아쉽게도 {date_input} 날짜가 예약 가능 상태로 변경되지 않았습니다.\")\n",
    "            print(\"💡 다음 기회에 다시 시도해보세요.\")\n",
    "            \n",
    "    except KeyboardInterrupt:\n",
    "        print(\"\\n\\n⏹️  사용자에 의해 모니터링이 중단되었습니다.\")\n",
    "    except Exception as e:\n",
    "        print(f\"\\n❌ 예상치 못한 오류가 발생했습니다: {e}\")\n"
   ]
  },
  {
   "cell_type": "code",
   "execution_count": 89,
   "id": "c2ec2423-8503-4a64-810d-09132851a25f",
   "metadata": {},
   "outputs": [
    {
     "name": "stdout",
     "output_type": "stream",
     "text": [
      "============================================================\n",
      "🏌️  인천국제CC 골프 예약 모니터링 시스템\n",
      "============================================================\n"
     ]
    },
    {
     "name": "stdin",
     "output_type": "stream",
     "text": [
      "\n",
      "📅 모니터링할 날짜를 입력하세요 (YYYY-MM-DD 형식):  2025-07-11\n"
     ]
    },
    {
     "name": "stdout",
     "output_type": "stream",
     "text": [
      "\n",
      "🎯 선택된 날짜: 2025-07-11 (20250711)\n",
      "\n",
      "🚀 모니터링을 시작합니다...\n",
      "🏌️ 골프 예약 모니터링 시작\n",
      "📅 대상 날짜: 20250711\n",
      "⏰ 모니터링 시간:\n",
      "   • 00:00 ~ 08:59:50 → 1분 간격\n",
      "   • 08:59:50 ~ 24:00 → 1초 간격\n",
      "   • 최대 모니터링 시간: 10분\n",
      "   • Ctrl+C로 언제든 중단 가능\n",
      "--------------------------------------------------\n",
      "🔍 검사 #1 - 22:10:59 (1초 간격)\n",
      "✅ 성공! 20250711 날짜가 예약 가능 상태입니다!\n",
      "\n",
      "🎉 성공! 2025-07-11 날짜 예약이 가능해졌습니다!\n",
      "💡 지금 바로 예약 사이트로 이동하세요!\n"
     ]
    }
   ],
   "source": [
    "main()"
   ]
  },
  {
   "cell_type": "code",
   "execution_count": 90,
   "id": "ec19f8c7-bf0a-4aa6-bb57-801ce9c9a2dc",
   "metadata": {},
   "outputs": [],
   "source": [
    "# StaleElementReferenceException\n",
    "# InvalidSessionIdException"
   ]
  },
  {
   "cell_type": "markdown",
   "id": "40ae31bf-d19f-4803-acec-0c135e98cfa1",
   "metadata": {},
   "source": [
    "# 리스트 페이지에서 해당 캘린더 날짜 클릭하는 코드 "
   ]
  },
  {
   "cell_type": "code",
   "execution_count": 4,
   "id": "fa0790f9-440c-4dcb-8405-18df200bfcb2",
   "metadata": {},
   "outputs": [
    {
     "ename": "NameError",
     "evalue": "name 'driver' is not defined",
     "output_type": "error",
     "traceback": [
      "\u001b[31m---------------------------------------------------------------------------\u001b[39m",
      "\u001b[31mNameError\u001b[39m                                 Traceback (most recent call last)",
      "\u001b[36mCell\u001b[39m\u001b[36m \u001b[39m\u001b[32mIn[4]\u001b[39m\u001b[32m, line 3\u001b[39m\n\u001b[32m      1\u001b[39m \u001b[38;5;66;03m# 예약 페이지에서 해당 캘린더 날짜 클릭하는 코드 \u001b[39;00m\n\u001b[32m      2\u001b[39m yyyy_mm_dd = \u001b[33m\"\u001b[39m\u001b[33m20250711\u001b[39m\u001b[33m\"\u001b[39m\n\u001b[32m----> \u001b[39m\u001b[32m3\u001b[39m wait = WebDriverWait(\u001b[43mdriver\u001b[49m, \u001b[32m10\u001b[39m)\n\u001b[32m      4\u001b[39m cal_live_dates = wait.until(\n\u001b[32m      5\u001b[39m     EC.presence_of_all_elements_located(\n\u001b[32m      6\u001b[39m         (\n\u001b[32m   (...)\u001b[39m\u001b[32m     10\u001b[39m     )\n\u001b[32m     11\u001b[39m )\n\u001b[32m     12\u001b[39m \u001b[38;5;66;03m# 날짜 클릭\u001b[39;00m\n",
      "\u001b[31mNameError\u001b[39m: name 'driver' is not defined"
     ]
    }
   ],
   "source": [
    "# 예약 페이지에서 해당 캘린더 날짜 클릭하는 코드 \n",
    "yyyy_mm_dd = \"20250711\"\n",
    "wait = WebDriverWait(driver, 10)\n",
    "cal_live_dates = wait.until(\n",
    "    EC.presence_of_all_elements_located(\n",
    "        (\n",
    "            By.XPATH,\n",
    "            \"//table[@class='cm_calender_tbl']//td/a[contains(@class,'cal_live')]\",\n",
    "        )\n",
    "    )\n",
    ")\n",
    "# 날짜 클릭\n",
    "for cal_live_date in cal_live_dates:\n",
    "    href = cal_live_date.get_attribute(\"href\")\n",
    "    if yyyy_mm_dd in href:\n",
    "        cal_live_date.click()"
   ]
  },
  {
   "cell_type": "code",
   "execution_count": 92,
   "id": "cbe81e4a-2bd1-4d35-982b-e82276212ef3",
   "metadata": {
    "scrolled": true
   },
   "outputs": [
    {
     "data": {
      "text/plain": [
       "14"
      ]
     },
     "execution_count": 92,
     "metadata": {},
     "output_type": "execute_result"
    }
   ],
   "source": [
    "# 코스 개수 확인\n",
    "len(driver.find_elements(value=\"//table[@class='cm_time_list_tbl']/tbody/tr\",by=By.XPATH))"
   ]
  },
  {
   "cell_type": "code",
   "execution_count": 5,
   "id": "5356e08d-7e9a-442e-94b3-ffe30e8a07ac",
   "metadata": {},
   "outputs": [],
   "source": [
    "# 사용할 비즈니스 데이터(엔티티) 소개드린 DDD 라는 방식에서 언급\n",
    "from enum import Enum\n",
    "from dataclasses import dataclass\n",
    "\n",
    "class OutInType(Enum):\n",
    "    OUT = 1  # 아웃 코스\n",
    "    IN = 2  # 인 코스\n",
    "@dataclass\n",
    "class Course:\n",
    "    point_id_out_in: OutInType\n",
    "    course_type: str\n",
    "    time: str\n",
    "\n",
    "@dataclass\n",
    "class TimePoint:\n",
    "    hour: int\n",
    "    minute: int\n",
    "\n",
    "    def __post_init__(self):\n",
    "        if not (0 <= self.hour <= 23):\n",
    "            raise ValueError(\"hour는 0~23 사이여야 합니다.\")\n",
    "        if not (0 <= self.minute <= 59):\n",
    "            raise ValueError(\"minute는 0~59 사이여야 합니다.\")\n",
    "\n",
    "    def strf_hhmm(self):\n",
    "        return f\"{self.hour:02d}{self.minute:02d}\"\n",
    "\n",
    "@dataclass\n",
    "class TimeRange:\n",
    "    start: TimePoint\n",
    "    end: TimePoint\n",
    "    priority_time: TimePoint\n"
   ]
  },
  {
   "cell_type": "markdown",
   "id": "9543e1d5-367f-427d-93e7-07444644fef2",
   "metadata": {},
   "source": [
    "# 웹 페이지의 코스를 수집해서, 원하는 시간대와 선호하는 시간에 의해 우선순위로 정렬된 코스들 리스트 반환"
   ]
  },
  {
   "cell_type": "code",
   "execution_count": 119,
   "id": "f6874021-c895-4aea-9986-66b48e79ec37",
   "metadata": {
    "scrolled": true
   },
   "outputs": [
    {
     "data": {
      "text/plain": [
       "[Course(point_id_out_in=<OutInType.OUT: 1>, course_type='OUT', time='06:00'),\n",
       " Course(point_id_out_in=<OutInType.OUT: 1>, course_type='OUT', time='05:42'),\n",
       " Course(point_id_out_in=<OutInType.IN: 2>, course_type='IN', time='05:42'),\n",
       " Course(point_id_out_in=<OutInType.OUT: 1>, course_type='OUT', time='05:36'),\n",
       " Course(point_id_out_in=<OutInType.IN: 2>, course_type='IN', time='05:36'),\n",
       " Course(point_id_out_in=<OutInType.OUT: 1>, course_type='OUT', time='05:30'),\n",
       " Course(point_id_out_in=<OutInType.IN: 2>, course_type='IN', time='05:30'),\n",
       " Course(point_id_out_in=<OutInType.OUT: 1>, course_type='OUT', time='05:24'),\n",
       " Course(point_id_out_in=<OutInType.IN: 2>, course_type='IN', time='05:24'),\n",
       " Course(point_id_out_in=<OutInType.OUT: 1>, course_type='OUT', time='05:18'),\n",
       " Course(point_id_out_in=<OutInType.IN: 2>, course_type='IN', time='05:18'),\n",
       " Course(point_id_out_in=<OutInType.OUT: 1>, course_type='OUT', time='05:12')]"
      ]
     },
     "execution_count": 119,
     "metadata": {},
     "output_type": "execute_result"
    }
   ],
   "source": [
    "# 웹 페이지의 코스를 수집해서, 원하는 시간대와 선호하는 시간에 의해 우선순위로 정렬된 코스들 리스트 반환\n",
    "time_range_model=TimeRange(start=TimePoint(hour=5,minute=0),\n",
    "                           end=TimePoint(hour=7,minute=0),\n",
    "                           priority_time=TimePoint(hour=6,minute=0)\n",
    "                          )\n",
    "\n",
    "                                           \n",
    "wait = WebDriverWait(driver, 10)\n",
    "table = wait.until(\n",
    "    EC.presence_of_element_located(\n",
    "        (\n",
    "            By.CLASS_NAME,\n",
    "            \"cm_time_list_tbl\",\n",
    "        )\n",
    "    )\n",
    ")\n",
    "# 헤더 제외한 행\n",
    "rows = table.find_elements(By.TAG_NAME, \"tr\")[1:] \n",
    "\n",
    "# 결과를 저장할 list\n",
    "scrpaed_courses = []\n",
    "\n",
    "# 각 행을 순회하며 데이터 추출\n",
    "for row in rows:\n",
    "    cells = row.find_elements(By.TAG_NAME, \"td\")\n",
    "    if len(cells) != 7:  # 모든 컬럼이 있는지 확인\n",
    "        raise Exception(\"코스의 칼럼이 바뀌었습니다.\")\n",
    "    course_type = cells[1].text\n",
    "    course_time = cells[2].text\n",
    "    # 문자열을 OutInType enum으로 변환\n",
    "    point_id_out_in = (\n",
    "        OutInType.OUT if course_type == \"OUT\" else OutInType.IN\n",
    "    )\n",
    "    scrpaed_courses.append(Course(point_id_out_in=point_id_out_in,course_type=course_type, time=course_time))\n",
    "\n",
    "def time_to_minutes(tstr):\n",
    "    h, m = map(int, tstr.split(\":\"))\n",
    "    return h * 60 + m\n",
    "\n",
    "start_minutes = time_range_model.start.hour * 60 + time_range_model.start.minute\n",
    "end_minutes = time_range_model.end.hour * 60 + time_range_model.end.minute\n",
    "priority_minutes = (\n",
    "    time_range_model.priority_time.hour * 60\n",
    "    + time_range_model.priority_time.minute\n",
    ")\n",
    "filtered = [\n",
    "    course\n",
    "    for course in scrpaed_courses\n",
    "    if time_to_minutes(course.time) >= start_minutes\n",
    "    and time_to_minutes(course.time) <= end_minutes\n",
    "]\n",
    "sorted_course_times = sorted(\n",
    "    filtered,\n",
    "    key=lambda x: abs(time_to_minutes(x.time) - priority_minutes),\n",
    ")\n",
    "sorted_course_times"
   ]
  },
  {
   "cell_type": "code",
   "execution_count": null,
   "id": "1ee2b99b-4bed-4b89-b336-edb40e23ef23",
   "metadata": {},
   "outputs": [],
   "source": [
    "\n"
   ]
  },
  {
   "cell_type": "code",
   "execution_count": 123,
   "id": "86d55bfe-4863-4db2-b8e1-6219ea30c1ef",
   "metadata": {},
   "outputs": [],
   "source": [
    "# 리스트보다 queue라는 자료구조(선입선출)를 사용하는게 예약하는 task에 직관적임, deque는 양방향 queue임, 정확하게는 이해할 필요는 없음\n",
    "\n",
    "sorted_course_times\n",
    "if not sorted_course_times:\n",
    "    logger.info(f\"🛑 {yyyy_mm_dd}에 선택한 시간 중 가능한 시간대가 없습니다!\")\n",
    "    raise RuntimeError(f\"🛑 {yyyy_mm_dd} 날짜가 예약 불가능 상태입니다!\")\n",
    "\n",
    "from collections import deque\n",
    "\n",
    "courses_dq = deque(sorted_course_times)"
   ]
  },
  {
   "cell_type": "code",
   "execution_count": 121,
   "id": "efc83387-def5-4a42-9cfc-f5f9d0c9afae",
   "metadata": {},
   "outputs": [],
   "source": [
    "# 없어진다면 index error\n",
    "course = courses_dq.popleft()"
   ]
  },
  {
   "cell_type": "code",
   "execution_count": 122,
   "id": "6f20b794-5e72-4d0e-9ee1-7df8eedd1977",
   "metadata": {},
   "outputs": [
    {
     "data": {
      "text/plain": [
       "Course(point_id_out_in=<OutInType.OUT: 1>, course_type='OUT', time='06:00')"
      ]
     },
     "execution_count": 122,
     "metadata": {},
     "output_type": "execute_result"
    }
   ],
   "source": [
    "course\n"
   ]
  },
  {
   "cell_type": "markdown",
   "id": "1e965b5f-1f31-4bd4-b7aa-2879ee9375e2",
   "metadata": {},
   "source": [
    "# 리스트 페이지에서 특정 코스의 row의 예약 버튼을 클릭하는 코드 "
   ]
  },
  {
   "cell_type": "code",
   "execution_count": 79,
   "id": "7f78fcc7-c8d8-4ca6-a3bd-80c15cafa961",
   "metadata": {},
   "outputs": [],
   "source": [
    "# 리스트 페이지에서 특정 코스의 row의 예약 버튼을 클릭하는 코드 \n",
    "# 추후 에러(경쟁 선점에 의한) 처리 필요 \n",
    "# select_time, course_type(OUT,IN)으로 row 찾기\n",
    "for course in sorted_course_times:\n",
    "    wait = WebDriverWait(driver, 10)\n",
    "    table = wait.until(\n",
    "        EC.presence_of_element_located(\n",
    "            (\n",
    "                By.CLASS_NAME,\n",
    "                \"cm_time_list_tbl\",\n",
    "            )\n",
    "        )\n",
    "    )\n",
    "    # 헤더 제외한 행\n",
    "    rows = table.find_elements(By.TAG_NAME, \"tr\")[1:] \n",
    "    for row in rows:\n",
    "        cells = row.find_elements(By.TAG_NAME, \"td\")\n",
    "        if course.course_type == cells[1].text and course.time == cells[2].text:\n",
    "            cells[6].click()\n",
    "            break\n",
    "    break\n"
   ]
  },
  {
   "cell_type": "markdown",
   "id": "9f7affb9-784f-4c7d-9fea-18ef6f52efa5",
   "metadata": {},
   "source": [
    "# 상세 페이지에서 예약 버튼을 누르고 alert을 \"네\" 처리하는 코드\n",
    "- 실제 예약되기 때문에 주석 처리함"
   ]
  },
  {
   "cell_type": "code",
   "execution_count": 80,
   "id": "329117f7-ee33-478c-b5c8-3fc0d3b19d22",
   "metadata": {},
   "outputs": [],
   "source": [
    "# 상세 페이지에서 예약 버튼을 누르고 alert을 \"네\" 처리하는 코드\n",
    "btn = driver.find_element(By.XPATH, \"//form/div/button[1]\")\n",
    "if btn.text == \"예약\":\n",
    "    btn.click()\n",
    "## 주석 해제시 예약 완료 처리 됨\n",
    "# if EC.alert_is_present():\n",
    "#     result = driver.switch_to.alert\n",
    "#     result.accept()"
   ]
  },
  {
   "cell_type": "markdown",
   "id": "54a34d8c-afec-439a-a327-341f1fdf0f0d",
   "metadata": {},
   "source": [
    "def convert_date_format(date_str):\n",
    "    try:\n",
    "        # 날짜 형식이 8자리인지 확인\n",
    "        if len(date_str) != 8:\n",
    "            return \"올바른 날짜 형식이 아닙니다.\"\n",
    "            \n",
    "        # 연도, 월, 일 추출\n",
    "        year = date_str[:4]\n",
    "        month = date_str[4:6]\n",
    "        day = date_str[6:]\n",
    "        \n",
    "        # 변환된 형식으로 반환\n",
    "        converted_date = f\"{year}년 {month}월 {day}일\"\n",
    "        return converted_date\n",
    "        \n",
    "    except Exception as e:\n",
    "        return f\"에러가 발생했습니다: {str(e)}\"\n",
    "\n",
    "- date = \"20250629\"\n",
    "- result = convert_date_format(date)\n",
    "- print(result)  # 출력: 2025년 06월 29일\n",
    "- 이 함수는 다음과 같은 특징이 있습니다:\n",
    "\n",
    "- 'YYYYMMDD' 형식의 8자리 문자열을 입력받습니다.\n",
    "- 문자열 슬라이싱을 사용하여 연, 월, 일을 분리합니다.\n",
    "- 연도: 처음 4자리\n",
    "- 월: 중간 2자리\n",
    "- 일: 마지막 2자리\n",
    "- f-string을 사용하여 \"yyyy년 mm월 dd일\" 형식으로 변환합니다.\n",
    "- 예외 처리를 통해 잘못된 입력에 대응합니다.\n",
    "- 입력된 날짜가 8자리가 아닌 경우 오류 메시지를 반환합니다."
   ]
  },
  {
   "cell_type": "code",
   "execution_count": 129,
   "id": "189fb7af-7c78-44f9-8735-80ea552ba97c",
   "metadata": {},
   "outputs": [],
   "source": [
    "def convert_date_format(date_str):\n",
    "    try:\n",
    "        # 날짜 형식이 8자리인지 확인\n",
    "        if len(date_str) != 8:\n",
    "            return \"올바른 날짜 형식이 아닙니다.\"\n",
    "            \n",
    "        # 연도, 월, 일 추출\n",
    "        year = date_str[:4]\n",
    "        month = date_str[4:6]\n",
    "        day = date_str[6:]\n",
    "        \n",
    "        # 변환된 형식으로 반환\n",
    "        converted_date = f\"{year}년 {month}월 {day}일\"\n",
    "        return converted_date\n",
    "        \n",
    "    except Exception as e:\n",
    "        return f\"에러가 발생했습니다: {str(e)}\""
   ]
  },
  {
   "cell_type": "code",
   "execution_count": 131,
   "id": "2729f5e2-2362-4e0b-8522-9c71559bca6d",
   "metadata": {},
   "outputs": [
    {
     "data": {
      "text/plain": [
       "Course(point_id_out_in=<OutInType.OUT: 1>, course_type='OUT', time='06:00')"
      ]
     },
     "execution_count": 131,
     "metadata": {},
     "output_type": "execute_result"
    }
   ],
   "source": [
    "# 테스트\n",
    "# yyyymmdd -> yyyy년 mm월 dd일\n",
    "point_date=convert_date_format(\"20250629\")\n"
   ]
  },
  {
   "cell_type": "markdown",
   "id": "615b3741-41e7-4b9a-8059-f53c48b6aa6f",
   "metadata": {},
   "source": [
    "# 예약완료 후, 예약확인 페이지에서 예약완료 여부를 확인하는 코드(날짜,시간, OUT|IN 으로 판별)"
   ]
  },
  {
   "cell_type": "code",
   "execution_count": 133,
   "id": "d186afd9-4277-4c7e-bcc0-249e3809590e",
   "metadata": {},
   "outputs": [
    {
     "name": "stdout",
     "output_type": "stream",
     "text": [
      "예약완료\n"
     ]
    }
   ],
   "source": [
    "# 예약확인 페이지에서 예약완료 여부를 확인하는 코드(날짜,시간, OUT|IN 으로 판별)\n",
    "course = Course(time=\"07:06\",course_type=\"OUT\", point_id_out_in=1)\n",
    "\n",
    "table = driver.find_element(By.CLASS_NAME,\"cm_time_list_tbl\")\n",
    "\n",
    "# 코드 수정해서 확인\n",
    "for reservation in table.find_elements(By.TAG_NAME,\"tr\")[1:]:\n",
    "    if reservation.find_elements(By.TAG_NAME,\"td\")[1].text == point_date and \\\n",
    "    reservation.find_elements(By.TAG_NAME,\"td\")[2].text == course.time and \\\n",
    "    course.course_type  in reservation.find_elements(By.TAG_NAME,\"td\")[3].text:\n",
    "        print(\"예약완료\")\n",
    "        # return True"
   ]
  }
 ],
 "metadata": {
  "kernelspec": {
   "display_name": "golf-booking",
   "language": "python",
   "name": "golf-booking"
  },
  "language_info": {
   "codemirror_mode": {
    "name": "ipython",
    "version": 3
   },
   "file_extension": ".py",
   "mimetype": "text/x-python",
   "name": "python",
   "nbconvert_exporter": "python",
   "pygments_lexer": "ipython3",
   "version": "3.12.2"
  }
 },
 "nbformat": 4,
 "nbformat_minor": 5
}
