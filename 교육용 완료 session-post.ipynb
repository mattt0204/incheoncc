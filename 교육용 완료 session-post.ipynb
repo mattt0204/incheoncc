{
 "cells": [
  {
   "cell_type": "code",
   "execution_count": null,
   "id": "5e618165-d7fc-4812-ab33-81110e93ab2f",
   "metadata": {},
   "outputs": [],
   "source": [
    "import os \n",
    "from selenium import webdriver\n",
    "from selenium.webdriver.common.keys import Keys\n",
    "from selenium.webdriver.common.by import By\n",
    "from selenium.webdriver.chrome.service import Service\n",
    "from selenium.webdriver.support import expected_conditions as EC\n",
    "\n",
    "# 시간\n",
    "import arrow\n",
    "\n",
    "\n",
    "from webdriver_manager.chrome import ChromeDriverManager"
   ]
  },
  {
   "cell_type": "code",
   "execution_count": null,
   "id": "9f5c2d59-5cad-4593-a646-48bf542849b4",
   "metadata": {},
   "outputs": [],
   "source": [
    "# chrome driver(크롬 브라우저의 핵심을 모방한 프로그램)\n",
    "chrome_options = webdriver.ChromeOptions()\n",
    "\n",
    "chrome_options.add_argument(\"window-size=1920,1024\")\n",
    "chrome_prefs = {\n",
    "    \"credentials_enable_service\": False,\n",
    "    \"profile.password_manager_enabled\": False,\n",
    "    \"profile.password_manager_leak_detection\": False,  # 로그인 유출 경고창 비활성화\n",
    "}\n",
    "chrome_options.add_experimental_option(\"prefs\", chrome_prefs)\n",
    "\n",
    "service = Service(ChromeDriverManager().install())\n",
    "driver = webdriver.Chrome(service=service, options=chrome_options)"
   ]
  },
  {
   "cell_type": "code",
   "execution_count": null,
   "id": "482af621-6c02-4ef4-84ea-d94df38991f4",
   "metadata": {},
   "outputs": [],
   "source": [
    "\n",
    "# 민감한 정보는 환경변수에 등록, 등록한 환경변수를 불러오는 코드\n",
    "login_id = os.environ.get(\"LOGIN_ID\")\n",
    "login_pw = os.environ.get(\"LOGIN_PW\")\n",
    "login_url = \"https://www.incheoncc.com:1436/login/login.asp?returnurl=/pagesite/reservation/live.asp?\"\n",
    "driver.get(login_url)\n",
    "id_element = driver.find_element(value=\"login_id\")\n",
    "pw_element = driver.find_element(value=\"login_pw\")\n",
    "id_element.send_keys(login_id)\n",
    "pw_element.send_keys(login_pw)\n",
    "login_button = driver.find_element(value=\"bt_login\",by=By.CLASS_NAME)\n",
    "login_button.click()\n",
    "if EC.alert_is_present():\n",
    "    result = driver.switch_to.alert\n",
    "    result.accept()"
   ]
  },
  {
   "cell_type": "code",
   "execution_count": null,
   "id": "fc7c9385-bb30-4966-bbe3-4ee8a81dd788",
   "metadata": {},
   "outputs": [],
   "source": [
    "# 개발자 도구 - Network 탭에서 확인함(실제 시도하면 안됨, 골프장 블랙리스트에 추가될 가능성 높음)\n",
    "# 자료는 바탕화면 자료에 저장함"
   ]
  },
  {
   "cell_type": "code",
   "execution_count": null,
   "id": "b63783b5-e0ca-4db5-b2b8-660ee8037657",
   "metadata": {},
   "outputs": [],
   "source": [
    "import requests\n",
    "\n",
    "# Selenium에서 세션 쿠키 가져오기\n",
    "selenium_cookies = driver.get_cookies()\n",
    "\n",
    "# requests 세션 초기화\n",
    "session = requests.Session()\n",
    "\n",
    "# Selenium에서 가져온 세션 쿠키를 requests 세션에 추가\n",
    "for cookie in selenium_cookies:\n",
    "    session.cookies.set(cookie['name'], cookie['value'])\n"
   ]
  },
  {
   "cell_type": "code",
   "execution_count": null,
   "id": "fed09f44-e264-4d06-96ad-f669a2c52c45",
   "metadata": {},
   "outputs": [],
   "source": [
    "# 예약 요청을 보낼 최종 예약 URL\n",
    "url = \"https://www.incheoncc.com:1436/GolfRes/onepage/real_resok.asp\"\n",
    "# POST 요청에 사용할 데이터\n",
    "data ={\n",
    "    \"cmd\" : \"ins\",\n",
    "    \"cmval\" : \"0\",\n",
    "    \"cmrtype\" : \"N\",\n",
    "    \"calltype\": \"AJAX\",\n",
    "    \"gonexturl\" : \"/GolfRes/onepage/my_golfreslist.asp\",\n",
    "    \"pointdate\" : \"20250613\", # 예약할 날짜 yyyymmdd\n",
    "    \"openyn\" : \"1\",\n",
    "    \"dategbn\" : \"6\",\n",
    "    \"pointid\" : \"1\", # OUT(1),IN(2)\n",
    "    \"pointtime\" : \"0000\", # 시간 hhmm\n",
    "    \"flagtype\" : \"I\",\n",
    "    \"punish_cd\" : \"UNABLE\",\n",
    "    \"self_r_yn\" : \"N\",\n",
    "    \"res_gubun\" : \"N\",\n",
    "    \"usrmemcd\" : \"12\",\n",
    "    \"memberno\" : \"12061000\",\n",
    "    \"hand_tel1\" : \"010\",\n",
    "    \"hand_tel2\" : \"7430\",\n",
    "    \"hand_tel3\" : \"0955\",\n",
    "    \n",
    "    \n",
    "}"
   ]
  },
  {
   "cell_type": "code",
   "execution_count": null,
   "id": "2674cf22-107c-4232-9c4c-3dd65f2f3aa4",
   "metadata": {},
   "outputs": [],
   "source": [
    "import re\n",
    "import urllib.parse\n",
    "\n",
    "\n",
    "def decode_unicode_url(text):\n",
    "    \"\"\"URL 인코딩된 유니코드 문자열을 디코딩합니다.\"\"\"\n",
    "    # %uXXXX 형식의 유니코드 문자를 디코딩\n",
    "    pattern = r\"%u([0-9a-fA-F]{4})\"\n",
    "    text = re.sub(pattern, lambda m: chr(int(m.group(1), 16)), text)\n",
    "\n",
    "    # 일반적인 URL 인코딩 (%20 등)을 디코딩\n",
    "    return urllib.parse.unquote(text)\n"
   ]
  },
  {
   "cell_type": "code",
   "execution_count": null,
   "id": "cf0413c5-c3ba-4f82-a912-0b16f7bba575",
   "metadata": {},
   "outputs": [],
   "source": [
    "# 없는 시간대 보내는 메세지\n",
    "decode_unicode_url(response.text)"
   ]
  },
  {
   "cell_type": "code",
   "execution_count": null,
   "id": "c51b942d-a7c0-4d98-828f-a6e165ae1215",
   "metadata": {},
   "outputs": [],
   "source": [
    "# 실패에 response.text의 내용에 따라 성공, 실패(실패한 메세지\n",
    "# 성공시 문자열에 \"OK\"라는 메세지\n",
    "\n",
    "# 발견한 에러 케이스 3가지\n",
    "\n",
    "# 없는 시간인 경우 \"오류\"\n",
    "\n",
    "# 타인에 의해 선점된 경우 \"동시예약\"\n",
    "\n",
    "# 다른 곳에서 회원님의 아이디로 로그인 되었습니다."
   ]
  },
  {
   "cell_type": "markdown",
   "id": "62ea416e-b197-46ab-91b5-b9e9406a770e",
   "metadata": {},
   "source": [
    "'<script language=\\'javascript\\'>alert(\"다른 곳에서 회원님의 아이디로 로그인 되었습니다. 예약서비스를 이용하시려면 다시 로그인하여 주십시요.\");location.href=\"/login/logout.asp\";</script>'"
   ]
  }
 ],
 "metadata": {
  "kernelspec": {
   "display_name": "golf-booking",
   "language": "python",
   "name": "golf-booking"
  },
  "language_info": {
   "codemirror_mode": {
    "name": "ipython",
    "version": 3
   },
   "file_extension": ".py",
   "mimetype": "text/x-python",
   "name": "python",
   "nbconvert_exporter": "python",
   "pygments_lexer": "ipython3",
   "version": "3.12.2"
  }
 },
 "nbformat": 4,
 "nbformat_minor": 5
}
