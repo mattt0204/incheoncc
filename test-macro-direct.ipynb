{
 "cells": [
  {
   "cell_type": "code",
   "execution_count": 1,
   "id": "6e6e2c06-5e2e-4a74-a254-98453b8d675c",
   "metadata": {},
   "outputs": [],
   "source": [
    "from selenium import webdriver\n",
    "from selenium.webdriver.common.keys import Keys\n",
    "from selenium.webdriver.common.by import By\n",
    "from selenium.webdriver.chrome.service import Service\n",
    "\n",
    "# 시간\n",
    "import arrow\n",
    "import os\n",
    "# 3.11까지 호환 개발됨\n",
    "from webdriver_manager.chrome import ChromeDriverManager\n",
    "import requests"
   ]
  },
  {
   "cell_type": "code",
   "execution_count": 2,
   "id": "1ed60336-cdf7-471e-907f-bf3d152a7592",
   "metadata": {},
   "outputs": [],
   "source": [
    "import json\n",
    "import re\n",
    "import urllib.parse"
   ]
  },
  {
   "cell_type": "code",
   "execution_count": 3,
   "id": "ea6085da-5f47-4e47-afce-0ee246f54163",
   "metadata": {},
   "outputs": [],
   "source": [
    "# create driver\n",
    "chrome_options = webdriver.ChromeOptions()\n",
    "\n",
    "chrome_options.add_argument(\"window-size=1920,1024\")\n",
    "chrome_prefs = {\n",
    "    \"credentials_enable_service\": False,\n",
    "    \"profile.password_manager_enabled\": False,\n",
    "    \"profile.password_manager_leak_detection\": False,  # <== 중요!\n",
    "}\n",
    "chrome_options.add_experimental_option(\"prefs\", chrome_prefs)\n",
    "\n",
    "service = Service(ChromeDriverManager().install())\n",
    "driver = webdriver.Chrome(service=service, options=chrome_options)"
   ]
  },
  {
   "cell_type": "code",
   "execution_count": 4,
   "id": "d19ac88b-315e-45e8-82d7-fc56698c067d",
   "metadata": {
    "scrolled": true
   },
   "outputs": [],
   "source": [
    "login_url = \"https://www.incheoncc.com:1436/login/login.asp?returnurl=/pagesite/reservation/live.asp?\"\n",
    "login_id = os.environ.get(\"LOGIN_ID\")\n",
    "login_pw = os.environ.get(\"LOGIN_PW\")\n",
    "driver.get(login_url)\n",
    "id_element = driver.find_element(value=\"login_id\")\n",
    "pw_element = driver.find_element(value=\"login_pw\")\n",
    "id_element.send_keys(login_id)\n",
    "pw_element.send_keys(login_pw)\n",
    "driver.find_element(value=\"bt_login\",by=By.CLASS_NAME).click()\n",
    "# alert 뜸 -> # UnexpectedAlertPresentException\n",
    "# 엘리먼트가 없다면 NoSuchElementException"
   ]
  },
  {
   "cell_type": "code",
   "execution_count": 6,
   "id": "66af4f34-35d8-4966-a13c-5e3705d389c4",
   "metadata": {},
   "outputs": [],
   "source": [
    "# Selenium에서 세션 쿠키 가져오기\n",
    "selenium_cookies = driver.get_cookies()\n",
    "\n",
    "# requests 세션 초기화\n",
    "session = requests.Session()\n",
    "\n",
    "# Selenium에서 가져온 세션 쿠키를 requests 세션에 추가\n",
    "for cookie in selenium_cookies:\n",
    "    session.cookies.set(cookie['name'], cookie['value'])\n"
   ]
  },
  {
   "cell_type": "code",
   "execution_count": 7,
   "id": "338dbedb-a34c-4887-b11e-24fad5a737a6",
   "metadata": {},
   "outputs": [],
   "source": [
    "# range time\n",
    "from dataclasses import dataclass\n",
    "\n",
    "@dataclass\n",
    "class TimePoint:\n",
    "    hour: int\n",
    "    minute: int\n",
    "\n",
    "    def strf_hhmm(self):\n",
    "        return f\"{self.hour:02d}{self.minute:02d}\"\n",
    "        \n",
    "\n",
    "@dataclass\n",
    "class TimeRange: \n",
    "    start: TimePoint\n",
    "    end: TimePoint\n",
    "    priority: TimePoint\n",
    "    "
   ]
  },
  {
   "cell_type": "code",
   "execution_count": 8,
   "id": "0be730b0-08b7-4f31-8a9b-cab92471e3e5",
   "metadata": {},
   "outputs": [],
   "source": [
    "from typing import List\n",
    "\n",
    "def get_all_timepoints_in_range(time_range: TimeRange) -> List[TimePoint]:\n",
    "    result = []\n",
    "    start_minutes = time_range.start.hour * 60 + time_range.start.minute\n",
    "    end_minutes = time_range.end.hour * 60 + time_range.end.minute\n",
    "    for m in range(start_minutes, end_minutes + 1):\n",
    "        hour = m // 60\n",
    "        minute = m % 60\n",
    "        result.append(TimePoint(hour, minute))\n",
    "    return result"
   ]
  },
  {
   "cell_type": "code",
   "execution_count": 9,
   "id": "11b8db44-6e19-4e65-b110-e16dfa09bdd1",
   "metadata": {},
   "outputs": [],
   "source": [
    "def sort_by_priority(timepoints: List[TimePoint], priority: TimePoint) -> List[TimePoint]:\n",
    "    def diff(tp: TimePoint):\n",
    "        return abs((tp.hour * 60 + tp.minute) - (priority.hour * 60 + priority.minute))\n",
    "    return sorted(timepoints, key=diff)"
   ]
  },
  {
   "cell_type": "code",
   "execution_count": 10,
   "id": "85b857f0-663f-4393-b8a9-1a3f56de52c5",
   "metadata": {
    "scrolled": true
   },
   "outputs": [
    {
     "name": "stdout",
     "output_type": "stream",
     "text": [
      "0530\n",
      "0529\n",
      "0531\n",
      "0528\n",
      "0532\n",
      "0527\n",
      "0533\n",
      "0526\n",
      "0534\n",
      "0525\n",
      "0535\n",
      "0524\n",
      "0536\n",
      "0523\n",
      "0537\n",
      "0522\n",
      "0538\n",
      "0521\n",
      "0539\n",
      "0520\n",
      "0540\n",
      "0519\n",
      "0541\n",
      "0518\n",
      "0542\n",
      "0517\n",
      "0543\n",
      "0516\n",
      "0544\n",
      "0515\n",
      "0545\n",
      "0514\n",
      "0546\n",
      "0513\n",
      "0547\n",
      "0512\n",
      "0548\n",
      "0511\n",
      "0549\n",
      "0510\n",
      "0550\n",
      "0509\n",
      "0551\n",
      "0508\n",
      "0552\n",
      "0507\n",
      "0553\n",
      "0506\n",
      "0554\n",
      "0505\n",
      "0555\n",
      "0504\n",
      "0556\n",
      "0503\n",
      "0557\n",
      "0502\n",
      "0558\n",
      "0501\n",
      "0559\n",
      "0500\n",
      "0600\n"
     ]
    }
   ],
   "source": [
    "# ... 위의 TimePoint, TimeRange, 함수 정의 ...\n",
    "\n",
    "# 예시\n",
    "tr = TimeRange(\n",
    "    start=TimePoint(5, 0),\n",
    "    end=TimePoint(6, 0),\n",
    "    priority=TimePoint(5, 30)\n",
    ")\n",
    "\n",
    "all_times = get_all_timepoints_in_range(tr)\n",
    "sorted_times = sort_by_priority(all_times, tr.priority)\n",
    "\n",
    "for tp in sorted_times:\n",
    "    print(tp.strf_hhmm())"
   ]
  },
  {
   "cell_type": "code",
   "execution_count": 20,
   "id": "22c8005e-60b0-4171-b48c-9b429ae269de",
   "metadata": {},
   "outputs": [],
   "source": [
    "point_date=\"20250613\"\n",
    "point_id_out_in = \"2\" # # OUT(1),IN(2)\n",
    "point_time = \"0530\"\n",
    "# environ\n",
    "hand_tel1=os.environ.get(\"HAND_TEL1\")\n",
    "hand_tel2=os.environ.get(\"HAND_TEL2\")\n",
    "hand_tel3=os.environ.get(\"HAND_TEL3\")\n",
    "\n",
    "\n",
    "reserve_ok_url = \"https://www.incheoncc.com:1436/GolfRes/onepage/real_resok.asp\"\n",
    "\n",
    "# POST 요청에 사용할 데이터\n",
    "form_data ={\n",
    "    \"cmd\" : \"ins\",\n",
    "    \"cmval\" : \"0\",\n",
    "    \"cmrtype\" : \"N\",\n",
    "    \"calltype\": \"AJAX\",\n",
    "    \"gonexturl\" : \"/GolfRes/onepage/my_golfreslist.asp\",\n",
    "    \"pointdate\" : point_date,\n",
    "    \"openyn\" : \"1\",\n",
    "    \"dategbn\" : \"6\",\n",
    "    \"pointid\" : point_id_out_in,\n",
    "    \"pointtime\" : point_time,\n",
    "    \"flagtype\" : \"I\",\n",
    "    \"punish_cd\" : \"UNABLE\",\n",
    "    \"self_r_yn\" : \"N\",\n",
    "    \"res_gubun\" : \"N\",\n",
    "    \"usrmemcd\" : \"12\",\n",
    "    \"memberno\" : \"12061000\",\n",
    "    \"hand_tel1\" : hand_tel1,\n",
    "    \"hand_tel2\" : hand_tel2,\n",
    "    \"hand_tel3\" : hand_tel3,   \n",
    "}"
   ]
  },
  {
   "cell_type": "code",
   "execution_count": 21,
   "id": "8d7dbef9-7411-4e7a-bfe0-184a4dd5c318",
   "metadata": {},
   "outputs": [
    {
     "data": {
      "text/plain": [
       "{'cmd': 'ins',\n",
       " 'cmval': '0',\n",
       " 'cmrtype': 'N',\n",
       " 'calltype': 'AJAX',\n",
       " 'gonexturl': '/GolfRes/onepage/my_golfreslist.asp',\n",
       " 'pointdate': '20250613',\n",
       " 'openyn': '1',\n",
       " 'dategbn': '6',\n",
       " 'pointid': '2',\n",
       " 'pointtime': '0530',\n",
       " 'flagtype': 'I',\n",
       " 'punish_cd': 'UNABLE',\n",
       " 'self_r_yn': 'N',\n",
       " 'res_gubun': 'N',\n",
       " 'usrmemcd': '12',\n",
       " 'memberno': '12061000',\n",
       " 'hand_tel1': '010',\n",
       " 'hand_tel2': '7430',\n",
       " 'hand_tel3': '0955'}"
      ]
     },
     "execution_count": 21,
     "metadata": {},
     "output_type": "execute_result"
    }
   ],
   "source": [
    "form_data"
   ]
  },
  {
   "cell_type": "code",
   "execution_count": 135,
   "id": "a7028723-bc47-4a5e-8d4d-26477e20350a",
   "metadata": {
    "scrolled": true
   },
   "outputs": [
    {
     "name": "stdout",
     "output_type": "stream",
     "text": [
      "1번째 시도, 0530 예약 성공\n"
     ]
    }
   ],
   "source": [
    "# direct\n",
    "# 참고 사이트: https://13months.tistory.com/484\n",
    "# 요청을 보낼 URL\n",
    "\n",
    "for idx, point_time in enumerate(sorted_times,start=1):\n",
    "    form_data[\"pointtime\"] = point_time.strf_hhmm()\n",
    "    response = session.post(reserve_ok_url, data=form_data)\n",
    "    if \"OK\" in response.text:\n",
    "        print(f\"{idx}번째 시도, {form_data[\"pointtime\"]} 예약 성공\")\n",
    "        break\n",
    "    elif \"오류\" in response.text:\n",
    "        print(f\"{idx}번째 시도, {form_data[\"pointtime\"]} 예약 실패, 없는 시간\")\n",
    "    elif \"동시예약\" in response.text:\n",
    "        print(f\"{idx}번째 시도, {form_data[\"pointtime\"]} 예약 실패, 동시예약으로 인한 실패\")\n",
    "    elif \"다른 곳에서 회원님의 아이디로 로그인 되었습니다.\" in response.text:\n",
    "        print(f\"{idx}번째 시도, {form_data[\"pointtime\"]} 예약 실패, 다른 곳에서 로그인 함(세션 불일치)\")"
   ]
  },
  {
   "cell_type": "code",
   "execution_count": 22,
   "id": "0ee0f402-0a78-4f5e-a636-53eb66d836ab",
   "metadata": {},
   "outputs": [
    {
     "ename": "NameError",
     "evalue": "name 'response' is not defined",
     "output_type": "error",
     "traceback": [
      "\u001b[31m---------------------------------------------------------------------------\u001b[39m",
      "\u001b[31mNameError\u001b[39m                                 Traceback (most recent call last)",
      "\u001b[36mCell\u001b[39m\u001b[36m \u001b[39m\u001b[32mIn[22]\u001b[39m\u001b[32m, line 1\u001b[39m\n\u001b[32m----> \u001b[39m\u001b[32m1\u001b[39m \u001b[43mresponse\u001b[49m.text\n",
      "\u001b[31mNameError\u001b[39m: name 'response' is not defined"
     ]
    }
   ],
   "source": [
    "response.text"
   ]
  },
  {
   "cell_type": "code",
   "execution_count": 23,
   "id": "6041a2bd-305a-4aaf-ac0e-9e6d76ef9c7e",
   "metadata": {},
   "outputs": [
    {
     "ename": "NameError",
     "evalue": "name 'response' is not defined",
     "output_type": "error",
     "traceback": [
      "\u001b[31m---------------------------------------------------------------------------\u001b[39m",
      "\u001b[31mNameError\u001b[39m                                 Traceback (most recent call last)",
      "\u001b[36mCell\u001b[39m\u001b[36m \u001b[39m\u001b[32mIn[23]\u001b[39m\u001b[32m, line 2\u001b[39m\n\u001b[32m      1\u001b[39m \u001b[38;5;66;03m# 1. \\r, \\n, \\t 등 제거\u001b[39;00m\n\u001b[32m----> \u001b[39m\u001b[32m2\u001b[39m cleaned = \u001b[43mresponse\u001b[49m.text.strip()\n\u001b[32m      4\u001b[39m \u001b[38;5;66;03m# 2. JSON 파싱\u001b[39;00m\n\u001b[32m      5\u001b[39m data = json.loads(cleaned)\n",
      "\u001b[31mNameError\u001b[39m: name 'response' is not defined"
     ]
    }
   ],
   "source": [
    "# 1. \\r, \\n, \\t 등 제거\n",
    "cleaned = response.text.strip()\n",
    "\n",
    "# 2. JSON 파싱\n",
    "data = json.loads(cleaned)\n",
    "\n",
    "# 3. %uXXXX → 한글로 변환\n",
    "def decode_unicode_escapes(s):\n",
    "    # %uXXXX → \\uXXXX로 변환\n",
    "    s = re.sub(r'%u([0-9A-Fa-f]{4})', r'\\\\u\\1', s)\n",
    "    # %XX → 문자로 변환\n",
    "    s = urllib.parse.unquote(s)\n",
    "    # \\uXXXX → 실제 문자로 변환\n",
    "    return s.encode('utf-8').decode('unicode_escape')\n",
    "\n",
    "data['gomsg'] = decode_unicode_escapes(data['gomsg'])\n",
    "print(data)"
   ]
  },
  {
   "cell_type": "code",
   "execution_count": null,
   "id": "120d5b42-cfd7-445c-8826-e4488b778ed6",
   "metadata": {},
   "outputs": [],
   "source": []
  }
 ],
 "metadata": {
  "kernelspec": {
   "display_name": "golf-booking-v2",
   "language": "python",
   "name": "golf-booking-v2"
  },
  "language_info": {
   "codemirror_mode": {
    "name": "ipython",
    "version": 3
   },
   "file_extension": ".py",
   "mimetype": "text/x-python",
   "name": "python",
   "nbconvert_exporter": "python",
   "pygments_lexer": "ipython3",
   "version": "3.12.2"
  }
 },
 "nbformat": 4,
 "nbformat_minor": 5
}
